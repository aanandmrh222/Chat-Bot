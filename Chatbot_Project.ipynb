{
 "cells": [
  {
   "cell_type": "code",
   "execution_count": 1,
   "metadata": {
    "colab": {
     "base_uri": "https://localhost:8080/"
    },
    "id": "CUa__XudA2PR",
    "outputId": "b6c59594-5a4f-402b-f92e-a123b66bc372"
   },
   "outputs": [
    {
     "name": "stdout",
     "output_type": "stream",
     "text": [
      "['Natural', 'language', 'Processing', 'is', 'fascinating', '.']\n"
     ]
    }
   ],
   "source": [
    "import nltk\n",
    "from nltk.tokenize import word_tokenize\n",
    "\n",
    "text = \"Natural language Processing is fascinating.\"\n",
    "tokens = word_tokenize(text)\n",
    "print(tokens)"
   ]
  },
  {
   "cell_type": "code",
   "execution_count": 2,
   "metadata": {
    "colab": {
     "base_uri": "https://localhost:8080/"
    },
    "id": "ShO9LalQEW5_",
    "outputId": "c82f5624-263c-46c2-d4d9-977d5df22ccc",
    "scrolled": true
   },
   "outputs": [
    {
     "name": "stdout",
     "output_type": "stream",
     "text": [
      "['run', 'ran', 'run']\n"
     ]
    }
   ],
   "source": [
    "from nltk.stem import PorterStemmer\n",
    "\n",
    "Stemmer = PorterStemmer()\n",
    "words = [\"running\",\"ran\",\"runs\"]\n",
    "stems = [Stemmer.stem(word) for word in words]\n",
    "print(stems)"
   ]
  },
  {
   "cell_type": "code",
   "execution_count": 3,
   "metadata": {
    "colab": {
     "base_uri": "https://localhost:8080/"
    },
    "id": "LYuqZhG8GQT5",
    "outputId": "d50efef3-596c-4287-889e-8ec516f52935"
   },
   "outputs": [
    {
     "name": "stderr",
     "output_type": "stream",
     "text": [
      "[nltk_data] Downloading package wordnet to\n",
      "[nltk_data]     C:\\Users\\mehta\\AppData\\Roaming\\nltk_data...\n",
      "[nltk_data]   Package wordnet is already up-to-date!\n"
     ]
    },
    {
     "name": "stdout",
     "output_type": "stream",
     "text": [
      "['run', 'run', 'run']\n"
     ]
    }
   ],
   "source": [
    "from nltk.stem import WordNetLemmatizer\n",
    "nltk.download('wordnet')\n",
    "\n",
    "lematizer = WordNetLemmatizer()\n",
    "words = [\"running\",\"ran\",\"runs\"]\n",
    "lemmas = [lematizer.lemmatize(word, pos ='v') for word in words]\n",
    "print(lemmas)"
   ]
  },
  {
   "cell_type": "code",
   "execution_count": 4,
   "metadata": {
    "colab": {
     "base_uri": "https://localhost:8080/"
    },
    "id": "XCV7CwX4HLnq",
    "outputId": "1f24b582-7b93-4ef8-8be7-2e09a80e762e"
   },
   "outputs": [
    {
     "name": "stdout",
     "output_type": "stream",
     "text": [
      "['Natural', 'language', 'Processing', 'fascinating', '.']\n"
     ]
    },
    {
     "name": "stderr",
     "output_type": "stream",
     "text": [
      "[nltk_data] Downloading package stopwords to\n",
      "[nltk_data]     C:\\Users\\mehta\\AppData\\Roaming\\nltk_data...\n",
      "[nltk_data]   Package stopwords is already up-to-date!\n"
     ]
    }
   ],
   "source": [
    "from nltk.corpus import stopwords\n",
    "nltk.download('stopwords')\n",
    "\n",
    "stop_words = set(stopwords.words ('english'))\n",
    "filtered_text = [word for word in tokens if word.lower() not in stop_words]\n",
    "print(filtered_text)"
   ]
  },
  {
   "cell_type": "markdown",
   "metadata": {
    "id": "LGh0hDFqNbiY"
   },
   "source": [
    "**Designing and training a simple chatbot**"
   ]
  },
  {
   "cell_type": "code",
   "execution_count": 5,
   "metadata": {
    "colab": {
     "base_uri": "https://localhost:8080/"
    },
    "id": "qyujQs9zNoD6",
    "outputId": "f58d9e48-1d83-4ef8-8a8f-6659eda10c68"
   },
   "outputs": [
    {
     "name": "stdout",
     "output_type": "stream",
     "text": [
      "                                      Question  \\\n",
      "0                   introduction to the course   \n",
      "1  overview of data science and its importance   \n",
      "2    introduction to the data science workflow   \n",
      "3         key skills and tools in data science   \n",
      "4          where can i find my course videos ?   \n",
      "\n",
      "                                              Answer  \n",
      "0  Welcome to the data science course. Here you w...  \n",
      "1  Data science is crucial for making informed de...  \n",
      "2  The data science workflow includes data collec...  \n",
      "3  Important skills include programming, statisti...  \n",
      "4  You can find all your course videos on the Cip...  \n"
     ]
    },
    {
     "name": "stderr",
     "output_type": "stream",
     "text": [
      "C:\\Users\\mehta\\AppData\\Local\\Temp\\ipykernel_8404\\2338154720.py:1: DeprecationWarning: \n",
      "Pyarrow will become a required dependency of pandas in the next major release of pandas (pandas 3.0),\n",
      "(to allow more performant data types, such as the Arrow string type, and better interoperability with other libraries)\n",
      "but was not found to be installed on your system.\n",
      "If this would cause problems for you,\n",
      "please provide us feedback at https://github.com/pandas-dev/pandas/issues/54466\n",
      "        \n",
      "  import pandas as pd\n"
     ]
    }
   ],
   "source": [
    "import pandas as pd\n",
    "\n",
    "#load the dataset\n",
    "data = pd.read_csv('chatbot_dataset.csv')\n",
    "\n",
    "#preprocess the data\n",
    "data['Question'] = data['Question'].apply(lambda x: ' '.join(nltk.word_tokenize(x.lower())))\n",
    "print(data.head())"
   ]
  },
  {
   "cell_type": "markdown",
   "metadata": {
    "id": "0ZoCLoiurzSq"
   },
   "source": [
    "**Vectorizing text data**"
   ]
  },
  {
   "cell_type": "code",
   "execution_count": 6,
   "metadata": {
    "colab": {
     "base_uri": "https://localhost:8080/"
    },
    "id": "K0I5pOZirr44",
    "outputId": "dde3c0d7-9a1f-4827-fee9-0fa9c747b29a"
   },
   "outputs": [
    {
     "name": "stdout",
     "output_type": "stream",
     "text": [
      "(48, 112)\n"
     ]
    }
   ],
   "source": [
    "from sklearn.feature_extraction.text import TfidfVectorizer\n",
    "\n",
    "vectorizer = TfidfVectorizer()\n",
    "x = vectorizer.fit_transform(data['Question'])\n",
    "print(x.shape)"
   ]
  },
  {
   "cell_type": "markdown",
   "metadata": {
    "id": "0omF7T0GsiUR"
   },
   "source": [
    "**Training a Text Classification Model**"
   ]
  },
  {
   "cell_type": "code",
   "execution_count": 7,
   "metadata": {
    "colab": {
     "base_uri": "https://localhost:8080/"
    },
    "id": "2J11yAgMsTDl",
    "outputId": "4d830d95-2790-47f2-d4a2-af326765e815"
   },
   "outputs": [
    {
     "name": "stdout",
     "output_type": "stream",
     "text": [
      "Model training complete.\n"
     ]
    }
   ],
   "source": [
    "#Using Naive Bayes classifer\n",
    "from sklearn.naive_bayes import MultinomialNB\n",
    "from sklearn.pipeline import make_pipeline\n",
    "from sklearn.model_selection import train_test_split\n",
    "\n",
    "#split the data into training and test sets\n",
    "X_train, X_test, y_train, y_test = train_test_split(data['Question'], data['Answer'], test_size=0.2,random_state = 42)\n",
    "\n",
    "# Create a model pipeline\n",
    "model = make_pipeline(TfidfVectorizer(), MultinomialNB())\n",
    "\n",
    "# Train the model\n",
    "model.fit(X_train, y_train)\n",
    "print(\"Model training complete.\")"
   ]
  },
  {
   "cell_type": "markdown",
   "metadata": {
    "id": "HyzIbA6Ezee3"
   },
   "source": [
    "# **Implementing a Function to Get Chatbot Responses**"
   ]
  },
  {
   "cell_type": "code",
   "execution_count": 8,
   "metadata": {
    "colab": {
     "base_uri": "https://localhost:8080/"
    },
    "id": "vcVkFZfMzaz1",
    "outputId": "71ae9191-0a6f-4afe-b4e2-b67be8ecc89d"
   },
   "outputs": [
    {
     "name": "stdout",
     "output_type": "stream",
     "text": [
      "['Datasets for the course can be downloaded from the resources section of each module on the Cipher Schools platform.']\n"
     ]
    }
   ],
   "source": [
    "# Function to get a response from the chatbot\n",
    "def get_response(question):\n",
    "    question = ' '.join(nltk.word_tokenize(question.lower()))\n",
    "    answer = model.predict([question])\n",
    "    return answer\n",
    "\n",
    "# Testing the function\n",
    "print(get_response(\"Can you explain Natural Language Processing?\"))"
   ]
  },
  {
   "cell_type": "markdown",
   "metadata": {
    "id": "dG32KrQ11PvM"
   },
   "source": [
    "## **Basics of Dash and Plotly**"
   ]
  },
  {
   "cell_type": "markdown",
   "metadata": {
    "id": "x1AYi4Sm1XT_"
   },
   "source": [
    "**Initializing the Dash App**"
   ]
  },
  {
   "cell_type": "code",
   "execution_count": 9,
   "metadata": {
    "id": "1If19dRl1S_e"
   },
   "outputs": [],
   "source": [
    "import dash\n",
    "\n",
    "# Initialize the Dash app\n",
    "app = dash.Dash(__name__)"
   ]
  },
  {
   "cell_type": "markdown",
   "metadata": {
    "id": "7IX9ENn09ZSe"
   },
   "source": [
    "**Defining the Layout**"
   ]
  },
  {
   "cell_type": "code",
   "execution_count": 10,
   "metadata": {
    "id": "yjMHR5VS68Od"
   },
   "outputs": [],
   "source": [
    "from dash import dcc, html\n",
    "\n",
    "# Define the layout\n",
    "app.layout = html.Div([\n",
    "    html.H1(\"My Dash App\", style={'textAlign': 'center'}),\n",
    "    dcc.Input(id='input-box', type='text', value='Search here...'),\n",
    "    html.Button('Submit', id='button'),\n",
    "    html.Div(id='output-div')\n",
    "])"
   ]
  },
  {
   "cell_type": "markdown",
   "metadata": {
    "id": "a1t4SJrl_BxY"
   },
   "source": [
    "# **Callback to Update the Output**"
   ]
  },
  {
   "cell_type": "code",
   "execution_count": 11,
   "metadata": {
    "id": "UjQsQfwb_DzO"
   },
   "outputs": [],
   "source": [
    "from dash.dependencies import Input, Output\n",
    "\n",
    "    # Define callback to update output\n",
    "@app.callback(\n",
    "        Output('output-div', 'children'),\n",
    "        Input('button', 'n_clicks'),\n",
    "        [dash.dependencies.State('input-box', 'value')]\n",
    "    )\n",
    "def update_output(n_clicks, value):\n",
    "        if n_clicks is not None:\n",
    "            return f'You have entered: {value}'\n",
    "        return ''\n"
   ]
  },
  {
   "cell_type": "markdown",
   "metadata": {
    "id": "825-kKb3CEaF"
   },
   "source": [
    "# **Adding a Text Area**"
   ]
  },
  {
   "cell_type": "code",
   "execution_count": 12,
   "metadata": {
    "id": "2Z5Rep12CApF"
   },
   "outputs": [],
   "source": [
    "app.layout = html.Div([\n",
    "    html.H1(\"Chatbot\", style={'textAlign': 'center'}),\n",
    "    dcc.Textarea(\n",
    "        id='user-input',\n",
    "        value='Type your question here...',\n",
    "        style={'width': '100%', 'height': 100}\n",
    "    ),\n",
    "    html.Button('Submit', id='submit-button', n_clicks=0),\n",
    "    html.Div(id='chatbot-output', style={'padding': '10px'})\n",
    "])"
   ]
  },
  {
   "cell_type": "markdown",
   "metadata": {
    "id": "VCRhhjrpCkBQ"
   },
   "source": [
    "**Creating a Chatbot Response**"
   ]
  },
  {
   "cell_type": "code",
   "execution_count": 13,
   "metadata": {
    "id": "tDTflkXrCiFO"
   },
   "outputs": [],
   "source": [
    "# Define callback to update chatbot response\n",
    "@app.callback(\n",
    "    Output('chatbot-output', 'children'),\n",
    "    Input('submit-button', 'n_clicks'),\n",
    "    [dash.dependencies.State('user-input', 'value')]\n",
    ")\n",
    "def update_output(n_clicks, user_input):\n",
    "    if n_clicks > 0:\n",
    "        return html.Div([\n",
    "            html.P(f\"You: {user_input}\", style={'margin': '10px'}),\n",
    "            html.P(f\"Bot: I am training now, ask something else.\", style={'margin': '10px', 'backgroundColor': '#f0f0f0', 'padding': '10px', 'borderRadius': '5px'})\n",
    "        ])\n",
    "    return \"Ask me something!\"\n"
   ]
  },
  {
   "cell_type": "code",
   "execution_count": 14,
   "metadata": {},
   "outputs": [
    {
     "data": {
      "text/html": [
       "\n",
       "        <iframe\n",
       "            width=\"100%\"\n",
       "            height=\"650\"\n",
       "            src=\"http://127.0.0.1:8050/\"\n",
       "            frameborder=\"0\"\n",
       "            allowfullscreen\n",
       "            \n",
       "        ></iframe>\n",
       "        "
      ],
      "text/plain": [
       "<IPython.lib.display.IFrame at 0x22883118e30>"
      ]
     },
     "metadata": {},
     "output_type": "display_data"
    }
   ],
   "source": [
    "if __name__ == '__main__':\n",
    "    app.run_server(debug=True)"
   ]
  }
 ],
 "metadata": {
  "colab": {
   "provenance": []
  },
  "kernelspec": {
   "display_name": "Python 3 (ipykernel)",
   "language": "python",
   "name": "python3"
  },
  "language_info": {
   "codemirror_mode": {
    "name": "ipython",
    "version": 3
   },
   "file_extension": ".py",
   "mimetype": "text/x-python",
   "name": "python",
   "nbconvert_exporter": "python",
   "pygments_lexer": "ipython3",
   "version": "3.12.1"
  }
 },
 "nbformat": 4,
 "nbformat_minor": 4
}
